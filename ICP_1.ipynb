{
  "nbformat": 4,
  "nbformat_minor": 0,
  "metadata": {
    "colab": {
      "provenance": [],
      "toc_visible": true
    },
    "kernelspec": {
      "name": "python3",
      "display_name": "Python 3"
    },
    "language_info": {
      "name": "python"
    }
  },
  "cells": [
    {
      "cell_type": "code",
      "source": [
        "#1 1\n",
        "s = str(input(\"enter the input string\"))\n",
        "s = s[0:-2] [::-1]\n",
        "print(\"Resultant string: \",s)"
      ],
      "metadata": {
        "colab": {
          "base_uri": "https://localhost:8080/"
        },
        "id": "0Sto1PrccD_7",
        "outputId": "bbc291a0-5bec-4337-f860-fc162029f4f4"
      },
      "execution_count": 2,
      "outputs": [
        {
          "output_type": "stream",
          "name": "stdout",
          "text": [
            "enter the input stringpython\n",
            "Resultant string:  htyp\n"
          ]
        }
      ]
    },
    {
      "cell_type": "code",
      "source": [
        "#1 2\n",
        "a , b = [int(i) for i in input (\"enter the numbers:\").split(\" \")]\n",
        "sum = a+b\n",
        "print(\"sum : \",sum)\n",
        "diff = a-b\n",
        "print(\"difference : \",diff)\n",
        "prod = a*b\n",
        "print(\"product : \",prod)\n",
        "div = a/b\n",
        "print (\"division : \", div)\n"
      ],
      "metadata": {
        "colab": {
          "base_uri": "https://localhost:8080/"
        },
        "id": "28H5GQCwfF8g",
        "outputId": "b5334d79-62f2-4887-bf26-11e5e7d02d95"
      },
      "execution_count": 3,
      "outputs": [
        {
          "output_type": "stream",
          "name": "stdout",
          "text": [
            "enter the numbers:3 2\n",
            "sum :  5\n",
            "difference :  1\n",
            "product :  6\n",
            "division :  1.5\n"
          ]
        }
      ]
    },
    {
      "cell_type": "code",
      "source": [
        "#2\n",
        "str1 = input(\"enter a string:\")\n",
        "print(\"Replaced String :\", str1.replace('python' , 'pythons'))  #replace is a built in function  to replace a string with new string\n",
        "\n"
      ],
      "metadata": {
        "colab": {
          "base_uri": "https://localhost:8080/"
        },
        "id": "kwX3jc5MiJrt",
        "outputId": "03eb636f-7460-4218-cb97-68237e24b476"
      },
      "execution_count": 4,
      "outputs": [
        {
          "output_type": "stream",
          "name": "stdout",
          "text": [
            "enter a string:i love playing with python\n",
            "Replaced String : i love playing with pythons\n"
          ]
        }
      ]
    },
    {
      "cell_type": "code",
      "source": [
        "#3\n",
        "grade = int(input(\"Enter Class Score :\"))\n",
        "if(grade >= 90 and grade <= 100):\n",
        "  print(\"grade A\")\n",
        "elif(grade >= 80 and grade <= 89):\n",
        "  print(\"grade B\")\n",
        "elif(grade >= 70 and grade <= 79):\n",
        "  print(\"grade C\")\n",
        "elif(grade >= 60 and grade <= 69):\n",
        "  print(\"grade D\")\n",
        "elif(grade < 60):\n",
        "  print(\"grade F\")\n",
        "else:\n",
        "  print(\"invalid input\")"
      ],
      "metadata": {
        "colab": {
          "base_uri": "https://localhost:8080/"
        },
        "id": "fBlyaPHht3HX",
        "outputId": "784f08ac-2848-4467-dba6-3d39dff8a8e6"
      },
      "execution_count": 9,
      "outputs": [
        {
          "output_type": "stream",
          "name": "stdout",
          "text": [
            "Enter Class Score :91\n",
            "grade A\n"
          ]
        }
      ]
    }
  ]
}